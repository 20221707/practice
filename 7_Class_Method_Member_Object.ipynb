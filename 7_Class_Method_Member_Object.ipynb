{
  "nbformat": 4,
  "nbformat_minor": 0,
  "metadata": {
    "colab": {
      "provenance": [],
      "authorship_tag": "ABX9TyPUVN5QOiuTwb3trLqKoFGR",
      "include_colab_link": true
    },
    "kernelspec": {
      "name": "python3",
      "display_name": "Python 3"
    },
    "language_info": {
      "name": "python"
    }
  },
  "cells": [
    {
      "cell_type": "markdown",
      "metadata": {
        "id": "view-in-github",
        "colab_type": "text"
      },
      "source": [
        "<a href=\"https://colab.research.google.com/github/20221707/practice/blob/main/7_Class_Method_Member_Object.ipynb\" target=\"_parent\"><img src=\"https://colab.research.google.com/assets/colab-badge.svg\" alt=\"Open In Colab\"/></a>"
      ]
    },
    {
      "cell_type": "code",
      "execution_count": null,
      "metadata": {
        "id": "x5QtfKT76UIE"
      },
      "outputs": [],
      "source": [
        "class FourCal: # Define a class named 'FourCal'\n",
        "  def setdata(self, first, second):  # Define a method 'setdata' within the class. \"Method\" is a special name for a function defined within a class. 📌 메서드의 매개변수\n",
        "                                     # 파이썬 메서드의 첫 번째 매개변수 이름은 관례적으로 self를 사용. 📌 객체를 호출할 때 호출한 객체 자신이 전달되기 때문에 self라는 이름을 사용. 다른 이름을 사용해도 상관X.\n",
        "                                     # 'self', 'first', and 'second'.\n",
        "    self.first = first               # ⬅️ Assign the 'first' parameter to an instance variable 'first'. 메서드의 수행문\n",
        "                                     # 📌 객체에 생성되는 객체만의 변수를 ‘객체변수’ 또는 ‘속성’\n",
        "                                     # This stores the 'first' value in the object. 📌 a 객체에 객체변수first가 생성되고 00 (e.g., 4)값이 저장\n",
        "\n",
        "    self.second = second"
      ]
    },
    {
      "cell_type": "code",
      "source": [
        "class FourCal:\n",
        "  def setdata(self, first, second):\n",
        "    self.first = first\n",
        "    self.second =second #a 객체 만듬. a 객체 통해 setdata 메서드를 호출하는거.\n",
        "\n",
        "a = FourCal()\n",
        "b = FourCal()"
      ],
      "metadata": {
        "id": "rlD8PvRX65-7"
      },
      "execution_count": null,
      "outputs": []
    },
    {
      "cell_type": "code",
      "source": [
        "a.setdata(1,2)\n",
        "b.setdata(3000,4000)"
      ],
      "metadata": {
        "id": "1hhZdzrA7A8Y"
      },
      "execution_count": null,
      "outputs": []
    },
    {
      "cell_type": "code",
      "source": [
        "a.first #a 객체에 객체변수 first 생성된 것을 확인하는것"
      ],
      "metadata": {
        "id": "UVzXnBX87EsP"
      },
      "execution_count": null,
      "outputs": []
    },
    {
      "cell_type": "code",
      "source": [
        "a.second"
      ],
      "metadata": {
        "id": "zJjQMPtN7KCv"
      },
      "execution_count": null,
      "outputs": []
    },
    {
      "cell_type": "code",
      "source": [
        "b.first"
      ],
      "metadata": {
        "id": "2T9Atqiu7WWR"
      },
      "execution_count": null,
      "outputs": []
    },
    {
      "cell_type": "code",
      "source": [
        "b.second"
      ],
      "metadata": {
        "id": "bcNko__97aT4"
      },
      "execution_count": null,
      "outputs": []
    },
    {
      "cell_type": "code",
      "source": [
        "class FourCal:\n",
        "  def setdata(self, first, second):\n",
        "    self.first = first\n",
        "    self.second = second\n",
        "\n",
        "  def add(self):\n",
        "    result = self.first + self.second\n",
        "    return result"
      ],
      "metadata": {
        "id": "tAlMs_OU7h3n"
      },
      "execution_count": null,
      "outputs": []
    },
    {
      "cell_type": "code",
      "source": [
        "a = FourCal()\n",
        "a.setdata(10,50)\n",
        "a.add() #add = 연산"
      ],
      "metadata": {
        "id": "4AxQZtae7lne"
      },
      "execution_count": null,
      "outputs": []
    },
    {
      "cell_type": "code",
      "source": [
        "class MoreFourCal:\n",
        "  def setdata (self, first, second):\n",
        "    self.first = first\n",
        "    self.second = second\n",
        "\n",
        "  def pow(self):\n",
        "    result = self.first ** self.second\n",
        "    return result\n",
        "\n",
        "a = MoreFourCal()"
      ],
      "metadata": {
        "id": "Xyl-h1zG7tdL"
      },
      "execution_count": null,
      "outputs": []
    },
    {
      "cell_type": "code",
      "source": [
        "a.setdata(10,3)\n",
        "a.pow() # pow = 제곱"
      ],
      "metadata": {
        "id": "4LKPu83d71JA"
      },
      "execution_count": null,
      "outputs": []
    },
    {
      "cell_type": "code",
      "source": [
        "class Greetings: #Class = 독립된 공간\n",
        "  def sayHello(self):\n",
        "    print('What is your name?')\n",
        "\n",
        "  def sayBye(self,name):\n",
        "    print('%s!' %name) #%s = obj.sayBye('Emma') 이거임\n",
        "\n",
        "obj = Greetings()\n",
        "\n",
        "obj.sayHello()\n",
        "obj.sayBye('Emma')"
      ],
      "metadata": {
        "colab": {
          "base_uri": "https://localhost:8080/"
        },
        "id": "ghp1Krjw78T-",
        "outputId": "0711f75e-9986-44e6-e2bb-43d246f06ad4"
      },
      "execution_count": 2,
      "outputs": [
        {
          "output_type": "stream",
          "name": "stdout",
          "text": [
            "What is your name?\n",
            "Emma!\n"
          ]
        }
      ]
    },
    {
      "cell_type": "code",
      "source": [
        "result = 0\n",
        "\n",
        "def add(num):\n",
        "  global result\n",
        "  result += num # 결괏값(result)에 입력값(num) 더하기\n",
        "  return result\n",
        "\n",
        "print(add(3))\n",
        "print(add(10))\n",
        "print(add(50))"
      ],
      "metadata": {
        "id": "q4QjWAs98jaD"
      },
      "execution_count": null,
      "outputs": []
    },
    {
      "cell_type": "code",
      "source": [
        "class Calculator:\n",
        "    def initialize(self):\n",
        "        self.result = 0\n",
        "\n",
        "    def add(self, num):\n",
        "        self.result += num\n",
        "        return self.result\n",
        "\n",
        "    def sub(self, num):\n",
        "        self.result -= num\n",
        "        return self.result\n",
        "\n",
        "calc = Calculator()\n",
        "\n",
        "calc.initialize()\n",
        "\n",
        "\n",
        "print(calc.add(50))\n",
        "print(calc.sub(3))\n",
        "print(calc.add(10))\n",
        "print(calc.sub(25)) # 뺄셈"
      ],
      "metadata": {
        "id": "QB1_zSfq8td4"
      },
      "execution_count": null,
      "outputs": []
    }
  ]
}