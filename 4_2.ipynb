{
  "nbformat": 4,
  "nbformat_minor": 0,
  "metadata": {
    "colab": {
      "provenance": [],
      "authorship_tag": "ABX9TyPZCpvhsEnTOVvShPGAjX8J",
      "include_colab_link": true
    },
    "kernelspec": {
      "name": "python3",
      "display_name": "Python 3"
    },
    "language_info": {
      "name": "python"
    }
  },
  "cells": [
    {
      "cell_type": "markdown",
      "metadata": {
        "id": "view-in-github",
        "colab_type": "text"
      },
      "source": [
        "<a href=\"https://colab.research.google.com/github/20221707/practice/blob/main/4_2.ipynb\" target=\"_parent\"><img src=\"https://colab.research.google.com/assets/colab-badge.svg\" alt=\"Open In Colab\"/></a>"
      ]
    },
    {
      "cell_type": "code",
      "execution_count": null,
      "metadata": {
        "id": "ymL17eO1PsHX"
      },
      "outputs": [],
      "source": [
        "numbers = (1,2,3,4,5,6,7,8,9)\n",
        "print(numbers)\n",
        "print('\\n') #빈칸임 이건 (뛰어쓰기? 느낌)\n",
        "\n",
        "for i  in numbers:\n",
        "  print(i)"
      ]
    },
    {
      "cell_type": "code",
      "source": [
        "scope = [1,2,3,4,5] #세로로\n",
        "\n",
        "for k in scope:\n",
        "  print(k)"
      ],
      "metadata": {
        "colab": {
          "base_uri": "https://localhost:8080/"
        },
        "id": "E3Cmbo-qPypC",
        "outputId": "17ff10b7-0b89-4afd-dee2-12ccfede97ce"
      },
      "execution_count": 2,
      "outputs": [
        {
          "output_type": "stream",
          "name": "stdout",
          "text": [
            "1\n",
            "2\n",
            "3\n",
            "4\n",
            "5\n"
          ]
        }
      ]
    },
    {
      "cell_type": "code",
      "source": [],
      "metadata": {
        "id": "WkTe4Y0kPymi"
      },
      "execution_count": null,
      "outputs": []
    },
    {
      "cell_type": "code",
      "source": [],
      "metadata": {
        "id": "btybkcq5Pyjz"
      },
      "execution_count": null,
      "outputs": []
    },
    {
      "cell_type": "code",
      "source": [],
      "metadata": {
        "id": "gwNhhvHDPygT"
      },
      "execution_count": null,
      "outputs": []
    }
  ]
}