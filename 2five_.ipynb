{
  "nbformat": 4,
  "nbformat_minor": 0,
  "metadata": {
    "colab": {
      "provenance": [],
      "authorship_tag": "ABX9TyPBMxkmoWYYnK70a5Z4zfhg",
      "include_colab_link": true
    },
    "kernelspec": {
      "name": "python3",
      "display_name": "Python 3"
    },
    "language_info": {
      "name": "python"
    }
  },
  "cells": [
    {
      "cell_type": "markdown",
      "metadata": {
        "id": "view-in-github",
        "colab_type": "text"
      },
      "source": [
        "<a href=\"https://colab.research.google.com/github/20221707/practice/blob/main/2five_.ipynb\" target=\"_parent\"><img src=\"https://colab.research.google.com/assets/colab-badge.svg\" alt=\"Open In Colab\"/></a>"
      ]
    },
    {
      "cell_type": "code",
      "execution_count": 1,
      "metadata": {
        "colab": {
          "base_uri": "https://localhost:8080/"
        },
        "id": "ThfgzzDDMjfZ",
        "outputId": "65f41308-75a0-4b7f-d35b-713a6f927ec4"
      },
      "outputs": [
        {
          "output_type": "stream",
          "name": "stdout",
          "text": [
            "I love Python\n"
          ]
        }
      ],
      "source": [
        "z = \"I love Python\"\n",
        "print (z)"
      ]
    },
    {
      "cell_type": "code",
      "source": [
        "a = 'Loll'\n",
        "print(a)\n",
        "\n",
        "_b = 'Samy'\n",
        "print(_b)\n",
        "\n",
        "a_b = 'Kenny'\n",
        "print(a_b)\n",
        "\n",
        "c_d = 'Jen'\n",
        "print(c_d)\n",
        "\n",
        "a= 'Emmastone'\n",
        "print(a)"
      ],
      "metadata": {
        "colab": {
          "base_uri": "https://localhost:8080/"
        },
        "id": "_j014Ae1Mri0",
        "outputId": "11ceae39-cbdd-4724-b3e3-87cc348a6129"
      },
      "execution_count": 2,
      "outputs": [
        {
          "output_type": "stream",
          "name": "stdout",
          "text": [
            "Loll\n",
            "Samy\n",
            "Kenny\n",
            "Jen\n",
            "Emmastone\n"
          ]
        }
      ]
    },
    {
      "cell_type": "code",
      "source": [
        "d = [\"Mercury\", \"Venus\", \"Earth\", \"Mars\", \"Jupiter\", \"Saturn\", \"Uranus\", \"Neptune\"]\n",
        "e = [\"수성\", \"금성\", \"지구\", \"화성\", \"목성\", \"토성\", \"천황성\", \"혜왕성\" ]\n",
        "f = [1,2,3,4,5,6,7,8]\n",
        "\n",
        "print (d)\n",
        "print(e)\n",
        "print (f)"
      ],
      "metadata": {
        "colab": {
          "base_uri": "https://localhost:8080/"
        },
        "id": "u0mT_C_XMrls",
        "outputId": "f28a379c-ad16-4eb7-f865-7265690dd6dc"
      },
      "execution_count": 3,
      "outputs": [
        {
          "output_type": "stream",
          "name": "stdout",
          "text": [
            "['Mercury', 'Venus', 'Earth', 'Mars', 'Jupiter', 'Saturn', 'Uranus', 'Neptune']\n",
            "['수성', '금성', '지구', '화성', '목성', '토성', '천황성', '혜왕성']\n",
            "[1, 2, 3, 4, 5, 6, 7, 8]\n"
          ]
        }
      ]
    },
    {
      "cell_type": "code",
      "source": [
        "g = (\"Mercury\", \"Venus\", \"Earth\", \"Mars\", \"Jupiter\", \"Saturn\", \"Uranus\", \"Neptune\") #Names of planets\n",
        "h = (\"수성\", \"금성\", \"지구\", \"화성\", \"목성\", \"토성\", \"천황성\", \"혜왕성\" ) #행성 이름\n",
        "i = (1,2,3,4,5,6,7,8)\n",
        "\n",
        "print (g)\n",
        "print(h)\n",
        "print (i)"
      ],
      "metadata": {
        "colab": {
          "base_uri": "https://localhost:8080/"
        },
        "id": "wF3HrbtPMroU",
        "outputId": "f57c6978-7267-4249-8f24-a165ff761747"
      },
      "execution_count": 4,
      "outputs": [
        {
          "output_type": "stream",
          "name": "stdout",
          "text": [
            "('Mercury', 'Venus', 'Earth', 'Mars', 'Jupiter', 'Saturn', 'Uranus', 'Neptune')\n",
            "('수성', '금성', '지구', '화성', '목성', '토성', '천황성', '혜왕성')\n",
            "(1, 2, 3, 4, 5, 6, 7, 8)\n"
          ]
        }
      ]
    },
    {
      "cell_type": "code",
      "source": [
        "k = {'Mercury':'수성', 'Venus':'금성', 'Earth':'지구', 'Mars':'화성', 'Jupiter':'목성', 'Saturn':'토성', 'Uranus':'명왕성', 'Neptune':'해왕성'}\n",
        "print(k)\n",
        "m = {'Mercury 수성':1, 'Venus 금성':2, 'Earth 지구':3, 'Mars 화성':4, 'Jupiter 목성':5, 'Saturn 토성':6, 'Uranus 명왕성':7, 'Neptune 해왕성':8}\n",
        "print(m)"
      ],
      "metadata": {
        "colab": {
          "base_uri": "https://localhost:8080/"
        },
        "id": "wwDgs0goMrqs",
        "outputId": "d4f2ccfc-edc1-4bfb-ab03-dd3054b3c9be"
      },
      "execution_count": 5,
      "outputs": [
        {
          "output_type": "stream",
          "name": "stdout",
          "text": [
            "{'Mercury': '수성', 'Venus': '금성', 'Earth': '지구', 'Mars': '화성', 'Jupiter': '목성', 'Saturn': '토성', 'Uranus': '명왕성', 'Neptune': '해왕성'}\n",
            "{'Mercury 수성': 1, 'Venus 금성': 2, 'Earth 지구': 3, 'Mars 화성': 4, 'Jupiter 목성': 5, 'Saturn 토성': 6, 'Uranus 명왕성': 7, 'Neptune 해왕성': 8}\n"
          ]
        }
      ]
    },
    {
      "cell_type": "code",
      "source": [
        "dict = {'a':1, 'b':2, 'c':3}\n",
        "print(dict)\n",
        "\n",
        "dict['a']=7\n",
        "print(dict)\n",
        "\n",
        "dict_data = {'c':10, 'b':20, 'a':30}\n",
        "print(dict_data)\n",
        "\n",
        "dict_data['a'] = 334\n",
        "print(dict_data)"
      ],
      "metadata": {
        "colab": {
          "base_uri": "https://localhost:8080/"
        },
        "id": "rLh8FaCqNGG9",
        "outputId": "08e2724c-5854-4a21-fc2f-79084dd11b9e"
      },
      "execution_count": 7,
      "outputs": [
        {
          "output_type": "stream",
          "name": "stdout",
          "text": [
            "{'a': 1, 'b': 2, 'c': 3}\n",
            "{'a': 7, 'b': 2, 'c': 3}\n",
            "{'c': 10, 'b': 20, 'a': 30}\n",
            "{'c': 10, 'b': 20, 'a': 334}\n"
          ]
        }
      ]
    },
    {
      "cell_type": "code",
      "source": [
        "dict = {'a':1, 'b':2, 'c':3}\n",
        "\n",
        "print(dict)\n",
        "\n",
        "dict['a']=7\n",
        "print (dict)\n",
        "\n",
        "dict_data = {'c':12, 'b':20, 'a':30}\n",
        "print(dict_data)\n",
        "dict_data['a'] = 300\n",
        "print(dict_data)"
      ],
      "metadata": {
        "colab": {
          "base_uri": "https://localhost:8080/"
        },
        "id": "-aht2vZRNGEc",
        "outputId": "715dfb40-4338-4a81-e623-3929c0131c9f"
      },
      "execution_count": 8,
      "outputs": [
        {
          "output_type": "stream",
          "name": "stdout",
          "text": [
            "{'a': 1, 'b': 2, 'c': 3}\n",
            "{'a': 7, 'b': 2, 'c': 3}\n",
            "{'c': 12, 'b': 20, 'a': 30}\n",
            "{'c': 12, 'b': 20, 'a': 300}\n"
          ]
        }
      ]
    }
  ]
}